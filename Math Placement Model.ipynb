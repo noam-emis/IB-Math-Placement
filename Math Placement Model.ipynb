{
 "cells": [
  {
   "cell_type": "markdown",
   "id": "3d79a09b-b8ae-4ae0-9925-59cc0b609437",
   "metadata": {},
   "source": [
    "# Imports"
   ]
  },
  {
   "cell_type": "code",
   "execution_count": 1,
   "id": "01a721d5-2db0-4e0c-bf33-366122317bac",
   "metadata": {},
   "outputs": [],
   "source": [
    "import pandas as pd\n",
    "import numpy as np\n",
    "import re\n",
    "import seaborn as sns\n",
    "import matplotlib.pyplot as plt\n",
    "from sklearn.linear_model import LogisticRegression\n",
    "from sklearn.ensemble import RandomForestClassifier\n",
    "from sklearn.model_selection import train_test_split\n",
    "from sklearn.model_selection import cross_validate\n",
    "from sklearn.metrics import f1_score\n",
    "from sklearn.model_selection import learning_curve\n",
    "from sklearn.cluster import KMeans\n",
    "from sklearn.metrics import precision_score\n",
    "from sklearn.metrics import recall_score\n",
    "import networkx as nx\n",
    "import ipywidgets as widgets\n",
    "from ipywidgets import interact, interactive, fixed\n",
    "from sklearn.base import BaseEstimator\n",
    "from sklearn.base import TransformerMixin\n",
    "from sklearn.base import clone\n",
    "from sklearn.metrics.pairwise import cosine_similarity\n",
    "import sys\n",
    "sys.path.insert(0, '/users/hannahlang/desktop/math_diagnostics_report/ready_model')\n",
    "from math_placement_model import *\n",
    "import pickle\n",
    "import warnings"
   ]
  },
  {
   "cell_type": "markdown",
   "id": "5cfeb01e-de51-4f3d-86e9-9c64c2458b6d",
   "metadata": {},
   "source": [
    "## Data Paths"
   ]
  },
  {
   "cell_type": "code",
   "execution_count": 2,
   "id": "32a8c3d8-522c-4a92-b9bb-d9bf1dfb6a7d",
   "metadata": {},
   "outputs": [],
   "source": [
    "#General pathway.\n",
    "PROJECT_PATH = '/users/hannahlang/desktop/math_diagnostics_report/'\n",
    "\n",
    "#Pathway to model folder.\n",
    "MODEL_PATH = PROJECT_PATH + 'ready_model/'\n",
    "\n",
    "#Pathway to data folder.\n",
    "DATA_PATH = PROJECT_PATH + 'data/'\n",
    "\n",
    "#Pathway to training data.\n",
    "X_TRAIN_PATH = MODEL_PATH + 'X_train_10_6.pkl'\n",
    "Y_TRAIN_PATH = MODEL_PATH + 'y_train_10_6.pkl'\n",
    "\n",
    "#Pathway to untrained model with parameters.\n",
    "BASE_MODEL_UNTRAINED_PATH = MODEL_PATH + 'base_model_untrained_10_6.pkl'"
   ]
  },
  {
   "cell_type": "code",
   "execution_count": 3,
   "id": "a4c4cbab-c79c-4b75-b5d7-ed0eda45a1f8",
   "metadata": {},
   "outputs": [],
   "source": [
    "#Loading training data.\n",
    "X_train = pickle.load(open(X_TRAIN_PATH, 'rb'))\n",
    "y_train = pickle.load(open(Y_TRAIN_PATH, 'rb'))"
   ]
  },
  {
   "cell_type": "code",
   "execution_count": 4,
   "id": "857144e5-0bfc-48d0-9a4b-467e474c5999",
   "metadata": {},
   "outputs": [],
   "source": [
    "UPDATE_TRAIN = False\n",
    "\n",
    "if UPDATE_TRAIN:\n",
    "    ADD_RAW_X_TRAIN_PATH = DATA_PATH + ''#insert file name of additional training data (placement scores)''\n",
    "    ADD_RAW_Y_TRAIN_PATH = DATA_PATH + ''#insert file name of additional training data (IB results)''\n",
    "    BASE_MODEL_UNTRAINED_PATH = MODEL_PATH + 'base_model_untrained_10_6.pkl'\n",
    "    DATE = ''#fill in with current date.\n",
    "\n",
    "else:\n",
    "    PRE_TRAINED_MODEL_PATH = MODEL_PATH + 'math_prediction_model_11_06.pkl'"
   ]
  },
  {
   "cell_type": "code",
   "execution_count": 5,
   "id": "14e59f30-be7d-410f-a05a-dfd85002f279",
   "metadata": {},
   "outputs": [],
   "source": [
    "#Test data must be in a csv file that has the following columns:\n",
    "# Student, Currently in, Recommended Course\n",
    "# Columns in the form: skill_questionum_level, \n",
    "    #Where skill is one of [num_ops, quad, func, geom, alg_exp, expn, linear]\n",
    "    #Where questionum is an integerl\n",
    "    #Where level is an integer from 1-3.\n",
    "    \n",
    "RAW_TEST_PATH = DATA_PATH + 'placement_scores_no_names_2021.csv'#insert file name of placement scores"
   ]
  },
  {
   "cell_type": "markdown",
   "id": "ebf4dd11-0fe6-47b5-aa85-1fc6541a4390",
   "metadata": {},
   "source": [
    "# Prepare Training/Testing Data"
   ]
  },
  {
   "cell_type": "code",
   "execution_count": 6,
   "id": "4c9fc4cb-49bb-40f1-a978-07bc5fea91c6",
   "metadata": {},
   "outputs": [],
   "source": [
    "df_transformer = prepare_clean_df(X_train, y_train)\n",
    "\n",
    "if UPDATE_TRAIN:\n",
    "    X_train, y_train = df_transformer.transform(x_file_path = ADD_RAW_X_TRAIN_PATH, \n",
    "                                                      y_file_path = ADD_RAW_Y_TRAIN_PATH,\n",
    "                                                      train_test = 'train')\n",
    "    pickle.dump(X_train,open('X_train_' + DATE + '.pkl', 'wb'))\n",
    "    pickle.dump(y_train,open('y_train_' + DATE + '.pkl', 'wb'))\n",
    "\n",
    "\n",
    "X_test = df_transformer.transform(x_file_path = RAW_TEST_PATH, \n",
    "                                        train_test = 'test')"
   ]
  },
  {
   "cell_type": "markdown",
   "id": "47ffab33-cd44-488b-8b82-9000904cc575",
   "metadata": {},
   "source": [
    "# The model"
   ]
  },
  {
   "cell_type": "markdown",
   "id": "3bd4105b-5f1b-4732-a686-52dbf990ee7e",
   "metadata": {},
   "source": [
    "## Load Model"
   ]
  },
  {
   "cell_type": "code",
   "execution_count": 7,
   "id": "33bf7333-9d4c-4278-ad2a-bb84b1b7bb70",
   "metadata": {},
   "outputs": [],
   "source": [
    "if UPDATE_TRAIN:\n",
    "    base_model =  pickle.load(open(BASE_MODEL_UNTRAINED_PATH, 'rb')) \n",
    "    mp_prediction = math_placement_prediction_model(base_model)\n",
    "    mp_prediction.fit(X_train, y_train)\n",
    "    pickle.dump(mp_prediction, open('math_prediction_model_' + DATE + '.pkl', 'wb'))\n",
    "\n",
    "else:\n",
    "    mp_prediction = pickle.load(open(PRE_TRAINED_MODEL_PATH, 'rb'))"
   ]
  },
  {
   "cell_type": "markdown",
   "id": "86f671b3-ca09-4b24-92c4-f437a76d8858",
   "metadata": {},
   "source": [
    "## Run Model"
   ]
  },
  {
   "cell_type": "code",
   "execution_count": 8,
   "id": "5419e45b-e4e8-49bf-ae18-f4ef76888903",
   "metadata": {},
   "outputs": [
    {
     "name": "stdout",
     "output_type": "stream",
     "text": [
      "88.68% of the predictions were predicted with probability above 0.5.\n",
      "\n",
      "\n",
      "47.17% of the lower boundaries of the confidence intervals had probabilities above 0.5.\n",
      "\n",
      "\n"
     ]
    },
    {
     "data": {
      "image/png": "[encoded data removed]",
      "text/plain": [
       "<Figure size 576x432 with 1 Axes>"
      ]
     },
     "metadata": {},
     "output_type": "display_data"
    }
   ],
   "source": [
    "predictions = mp_prediction.predict(X_test, c_i=80)"
   ]
  },
  {
   "cell_type": "code",
   "execution_count": 9,
   "id": "250bc4a3-5126-4114-821a-f9597332936d",
   "metadata": {},
   "outputs": [
    {
     "data": {
      "text/html": [
       "<div>\n",
       "<style scoped>\n",
       "    .dataframe tbody tr th:only-of-type {\n",
       "        vertical-align: middle;\n",
       "    }\n",
       "\n",
       "    .dataframe tbody tr th {\n",
       "        vertical-align: top;\n",
       "    }\n",
       "\n",
       "    .dataframe thead th {\n",
       "        text-align: right;\n",
       "    }\n",
       "</style>\n",
       "<table border=\"1\" class=\"dataframe\">\n",
       "  <thead>\n",
       "    <tr style=\"text-align: right;\">\n",
       "      <th></th>\n",
       "      <th>pred_prob</th>\n",
       "      <th>lower_ci_val</th>\n",
       "      <th>upper_ci_val</th>\n",
       "      <th>pred_label</th>\n",
       "      <th>lower_conf_label</th>\n",
       "    </tr>\n",
       "    <tr>\n",
       "      <th>Student</th>\n",
       "      <th></th>\n",
       "      <th></th>\n",
       "      <th></th>\n",
       "      <th></th>\n",
       "      <th></th>\n",
       "    </tr>\n",
       "  </thead>\n",
       "  <tbody>\n",
       "    <tr>\n",
       "      <th>Student 139</th>\n",
       "      <td>0.643581</td>\n",
       "      <td>0.471125</td>\n",
       "      <td>0.755751</td>\n",
       "      <td>Math AA HL</td>\n",
       "      <td>Math AA HL</td>\n",
       "    </tr>\n",
       "    <tr>\n",
       "      <th>Student 140</th>\n",
       "      <td>0.602492</td>\n",
       "      <td>0.514949</td>\n",
       "      <td>0.735743</td>\n",
       "      <td>Math AA HL</td>\n",
       "      <td>Math AA HL</td>\n",
       "    </tr>\n",
       "  </tbody>\n",
       "</table>\n",
       "</div>"
      ],
      "text/plain": [
       "             pred_prob  lower_ci_val  upper_ci_val  pred_label  \\\n",
       "Student                                                          \n",
       "Student 139   0.643581      0.471125      0.755751  Math AA HL   \n",
       "Student 140   0.602492      0.514949      0.735743  Math AA HL   \n",
       "\n",
       "            lower_conf_label  \n",
       "Student                       \n",
       "Student 139       Math AA HL  \n",
       "Student 140       Math AA HL  "
      ]
     },
     "execution_count": 9,
     "metadata": {},
     "output_type": "execute_result"
    }
   ],
   "source": [
    "predictions.head(2)"
   ]
  },
  {
   "cell_type": "code",
   "execution_count": 10,
   "id": "760d786f-7976-4f87-9d8b-dd5f7c87da19",
   "metadata": {},
   "outputs": [
    {
     "data": {
      "application/vnd.jupyter.widget-view+json": {
       "model_id": "c4fc61eb0d3045b88d9b30811b821a44",
       "version_major": 2,
       "version_minor": 0
      },
      "text/plain": [
       "interactive(children=(Dropdown(description='idx', options=('Student 139', 'Student 140', 'Student 141', 'Stude…"
      ]
     },
     "metadata": {},
     "output_type": "display_data"
    }
   ],
   "source": [
    "#Confidence intervals by student\n",
    "mp_prediction.c_i_widget()"
   ]
  },
  {
   "cell_type": "code",
   "execution_count": 11,
   "id": "23d024e9-8ac7-4b7a-a276-98737711f451",
   "metadata": {},
   "outputs": [
    {
     "data": {
      "application/vnd.jupyter.widget-view+json": {
       "model_id": "658382c08f3a4506b637db36662c5adc",
       "version_major": 2,
       "version_minor": 0
      },
      "text/plain": [
       "interactive(children=(Dropdown(description='idx', options=('Student 139', 'Student 140', 'Student 141', 'Stude…"
      ]
     },
     "metadata": {},
     "output_type": "display_data"
    }
   ],
   "source": [
    "#Email widget takes the path to the raw test data, and the predictions from the confidence interval model.\n",
    "email_widget(raw_test_path = RAW_TEST_PATH, ci_predictions = predictions)"
   ]
  }
 ],
 "metadata": {
  "kernelspec": {
   "display_name": "Python 3 (ipykernel)",
   "language": "python",
   "name": "python3"
  },
  "language_info": {
   "codemirror_mode": {
    "name": "ipython",
    "version": 3
   },
   "file_extension": ".py",
   "mimetype": "text/x-python",
   "name": "python",
   "nbconvert_exporter": "python",
   "pygments_lexer": "ipython3",
   "version": "3.7.9"
  }
 },
 "nbformat": 4,
 "nbformat_minor": 5
}
